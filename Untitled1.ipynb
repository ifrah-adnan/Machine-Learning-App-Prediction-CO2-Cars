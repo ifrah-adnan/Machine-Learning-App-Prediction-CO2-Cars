{
 "cells": [
  {
   "cell_type": "code",
   "execution_count": 35,
   "id": "193fd3ee-4ee6-4c3a-a347-79945c74251d",
   "metadata": {},
   "outputs": [],
   "source": [
    "import pandas as pnd\n",
    "import numpy as np\n",
    "from sklearn.model_selection import train_test_split\n",
    "from sklearn.linear_model import LinearRegression\n",
    "from sklearn.metrics import mean_squared_error,mean_absolute_error, r2_score\n",
    "\n",
    "\n",
    "from sklearn.preprocessing import OneHotEncoder\n",
    "from sklearn.compose import ColumnTransformer\n"
   ]
  },
  {
   "cell_type": "code",
   "execution_count": 6,
   "id": "716bfc02-d757-4467-b58d-cd5e356b3c58",
   "metadata": {},
   "outputs": [],
   "source": [
    "dataset=pnd.read_csv(\"cars_CO2_emission.csv\")"
   ]
  },
  {
   "cell_type": "code",
   "execution_count": 7,
   "id": "5b99f948-d3d1-47af-be0b-747e73900b4a",
   "metadata": {},
   "outputs": [],
   "source": [
    "selected_values=['ENGINESIZE','CYLINDERS','FUELTYPE','FUELCONSUMPTION_CITY','FUELCONSUMPTION_HWY','FUELCONSUMPTION_COMB']\n"
   ]
  },
  {
   "cell_type": "code",
   "execution_count": 8,
   "id": "1351c492-0466-4cb8-a027-c5111324f6aa",
   "metadata": {},
   "outputs": [],
   "source": [
    "X=dataset[selected_values]\n",
    "y=dataset['CO2EMISSIONS'].values\n"
   ]
  },
  {
   "cell_type": "code",
   "execution_count": 9,
   "id": "de4470dd-db08-4343-90b3-d3a713096516",
   "metadata": {},
   "outputs": [
    {
     "data": {
      "text/plain": [
       "array([196, 221, 136, ..., 271, 260, 294], dtype=int64)"
      ]
     },
     "execution_count": 9,
     "metadata": {},
     "output_type": "execute_result"
    }
   ],
   "source": [
    "y"
   ]
  },
  {
   "cell_type": "code",
   "execution_count": 10,
   "id": "729b5dac-e325-44e9-8ec7-923f31a80883",
   "metadata": {},
   "outputs": [
    {
     "data": {
      "text/plain": [
       "(1067, 6)"
      ]
     },
     "execution_count": 10,
     "metadata": {},
     "output_type": "execute_result"
    }
   ],
   "source": [
    "X.shape"
   ]
  },
  {
   "cell_type": "code",
   "execution_count": 11,
   "id": "40682396-6c18-4730-b8c3-b1390ed51e62",
   "metadata": {},
   "outputs": [
    {
     "name": "stdout",
     "output_type": "stream",
     "text": [
      "<class 'pandas.core.frame.DataFrame'>\n",
      "RangeIndex: 1067 entries, 0 to 1066\n",
      "Data columns (total 6 columns):\n",
      " #   Column                Non-Null Count  Dtype  \n",
      "---  ------                --------------  -----  \n",
      " 0   ENGINESIZE            1067 non-null   float64\n",
      " 1   CYLINDERS             1067 non-null   int64  \n",
      " 2   FUELTYPE              1067 non-null   object \n",
      " 3   FUELCONSUMPTION_CITY  1067 non-null   float64\n",
      " 4   FUELCONSUMPTION_HWY   1067 non-null   float64\n",
      " 5   FUELCONSUMPTION_COMB  1067 non-null   float64\n",
      "dtypes: float64(4), int64(1), object(1)\n",
      "memory usage: 50.1+ KB\n"
     ]
    }
   ],
   "source": [
    "X.info()"
   ]
  },
  {
   "cell_type": "code",
   "execution_count": 12,
   "id": "4a73d02f-e9c9-481c-8a19-a795b10db8b5",
   "metadata": {},
   "outputs": [],
   "source": [
    "ct = ColumnTransformer([('oneHe', OneHotEncoder(categories='auto'), [2])] ,remainder='passthrough')\n",
    "X = ct.fit_transform(X)"
   ]
  },
  {
   "cell_type": "code",
   "execution_count": 13,
   "id": "cb1bd1ad-c657-4d78-82d4-a1d801c000e2",
   "metadata": {},
   "outputs": [
    {
     "data": {
      "text/plain": [
       "(1067, 9)"
      ]
     },
     "execution_count": 13,
     "metadata": {},
     "output_type": "execute_result"
    }
   ],
   "source": [
    "X.shape"
   ]
  },
  {
   "cell_type": "code",
   "execution_count": 14,
   "id": "99d086b9-c966-4a3e-b046-78bc478553bf",
   "metadata": {},
   "outputs": [],
   "source": [
    "X_train, X_test, y_train, y_test = train_test_split(X, y, test_size=0.2, random_state=55)"
   ]
  },
  {
   "cell_type": "code",
   "execution_count": 15,
   "id": "2935e36a-507f-469a-bef3-7230fe3c188f",
   "metadata": {},
   "outputs": [
    {
     "data": {
      "text/plain": [
       "(853, 9)"
      ]
     },
     "execution_count": 15,
     "metadata": {},
     "output_type": "execute_result"
    }
   ],
   "source": [
    "X_train.shape"
   ]
  },
  {
   "cell_type": "code",
   "execution_count": 16,
   "id": "5c99d49d-8892-4d66-ae82-64ef0107ee7d",
   "metadata": {},
   "outputs": [],
   "source": [
    "model=LinearRegression()"
   ]
  },
  {
   "cell_type": "code",
   "execution_count": 17,
   "id": "0b9c9cc3-17f5-45f5-b790-3d853e73a7dc",
   "metadata": {},
   "outputs": [
    {
     "data": {
      "text/html": [
       "<style>#sk-container-id-1 {color: black;background-color: white;}#sk-container-id-1 pre{padding: 0;}#sk-container-id-1 div.sk-toggleable {background-color: white;}#sk-container-id-1 label.sk-toggleable__label {cursor: pointer;display: block;width: 100%;margin-bottom: 0;padding: 0.3em;box-sizing: border-box;text-align: center;}#sk-container-id-1 label.sk-toggleable__label-arrow:before {content: \"▸\";float: left;margin-right: 0.25em;color: #696969;}#sk-container-id-1 label.sk-toggleable__label-arrow:hover:before {color: black;}#sk-container-id-1 div.sk-estimator:hover label.sk-toggleable__label-arrow:before {color: black;}#sk-container-id-1 div.sk-toggleable__content {max-height: 0;max-width: 0;overflow: hidden;text-align: left;background-color: #f0f8ff;}#sk-container-id-1 div.sk-toggleable__content pre {margin: 0.2em;color: black;border-radius: 0.25em;background-color: #f0f8ff;}#sk-container-id-1 input.sk-toggleable__control:checked~div.sk-toggleable__content {max-height: 200px;max-width: 100%;overflow: auto;}#sk-container-id-1 input.sk-toggleable__control:checked~label.sk-toggleable__label-arrow:before {content: \"▾\";}#sk-container-id-1 div.sk-estimator input.sk-toggleable__control:checked~label.sk-toggleable__label {background-color: #d4ebff;}#sk-container-id-1 div.sk-label input.sk-toggleable__control:checked~label.sk-toggleable__label {background-color: #d4ebff;}#sk-container-id-1 input.sk-hidden--visually {border: 0;clip: rect(1px 1px 1px 1px);clip: rect(1px, 1px, 1px, 1px);height: 1px;margin: -1px;overflow: hidden;padding: 0;position: absolute;width: 1px;}#sk-container-id-1 div.sk-estimator {font-family: monospace;background-color: #f0f8ff;border: 1px dotted black;border-radius: 0.25em;box-sizing: border-box;margin-bottom: 0.5em;}#sk-container-id-1 div.sk-estimator:hover {background-color: #d4ebff;}#sk-container-id-1 div.sk-parallel-item::after {content: \"\";width: 100%;border-bottom: 1px solid gray;flex-grow: 1;}#sk-container-id-1 div.sk-label:hover label.sk-toggleable__label {background-color: #d4ebff;}#sk-container-id-1 div.sk-serial::before {content: \"\";position: absolute;border-left: 1px solid gray;box-sizing: border-box;top: 0;bottom: 0;left: 50%;z-index: 0;}#sk-container-id-1 div.sk-serial {display: flex;flex-direction: column;align-items: center;background-color: white;padding-right: 0.2em;padding-left: 0.2em;position: relative;}#sk-container-id-1 div.sk-item {position: relative;z-index: 1;}#sk-container-id-1 div.sk-parallel {display: flex;align-items: stretch;justify-content: center;background-color: white;position: relative;}#sk-container-id-1 div.sk-item::before, #sk-container-id-1 div.sk-parallel-item::before {content: \"\";position: absolute;border-left: 1px solid gray;box-sizing: border-box;top: 0;bottom: 0;left: 50%;z-index: -1;}#sk-container-id-1 div.sk-parallel-item {display: flex;flex-direction: column;z-index: 1;position: relative;background-color: white;}#sk-container-id-1 div.sk-parallel-item:first-child::after {align-self: flex-end;width: 50%;}#sk-container-id-1 div.sk-parallel-item:last-child::after {align-self: flex-start;width: 50%;}#sk-container-id-1 div.sk-parallel-item:only-child::after {width: 0;}#sk-container-id-1 div.sk-dashed-wrapped {border: 1px dashed gray;margin: 0 0.4em 0.5em 0.4em;box-sizing: border-box;padding-bottom: 0.4em;background-color: white;}#sk-container-id-1 div.sk-label label {font-family: monospace;font-weight: bold;display: inline-block;line-height: 1.2em;}#sk-container-id-1 div.sk-label-container {text-align: center;}#sk-container-id-1 div.sk-container {/* jupyter's `normalize.less` sets `[hidden] { display: none; }` but bootstrap.min.css set `[hidden] { display: none !important; }` so we also need the `!important` here to be able to override the default hidden behavior on the sphinx rendered scikit-learn.org. See: https://github.com/scikit-learn/scikit-learn/issues/21755 */display: inline-block !important;position: relative;}#sk-container-id-1 div.sk-text-repr-fallback {display: none;}</style><div id=\"sk-container-id-1\" class=\"sk-top-container\"><div class=\"sk-text-repr-fallback\"><pre>LinearRegression()</pre><b>In a Jupyter environment, please rerun this cell to show the HTML representation or trust the notebook. <br />On GitHub, the HTML representation is unable to render, please try loading this page with nbviewer.org.</b></div><div class=\"sk-container\" hidden><div class=\"sk-item\"><div class=\"sk-estimator sk-toggleable\"><input class=\"sk-toggleable__control sk-hidden--visually\" id=\"sk-estimator-id-1\" type=\"checkbox\" checked><label for=\"sk-estimator-id-1\" class=\"sk-toggleable__label sk-toggleable__label-arrow\">LinearRegression</label><div class=\"sk-toggleable__content\"><pre>LinearRegression()</pre></div></div></div></div></div>"
      ],
      "text/plain": [
       "LinearRegression()"
      ]
     },
     "execution_count": 17,
     "metadata": {},
     "output_type": "execute_result"
    }
   ],
   "source": [
    "model.fit(X_train,y_train)"
   ]
  },
  {
   "cell_type": "code",
   "execution_count": 18,
   "id": "73167ab9-20a3-4794-ab1e-1a2dca944791",
   "metadata": {},
   "outputs": [
    {
     "data": {
      "text/plain": [
       "array([207.81980815, 240.47404204, 247.55365809, 164.57055817,\n",
       "       212.46360612, 377.15129156, 310.12801369, 212.97977058,\n",
       "       228.68552359, 150.60427524, 359.32708898, 216.36846232,\n",
       "       195.85612263, 380.8865251 , 361.1095134 , 301.48012107,\n",
       "       372.43120145, 253.37906331, 288.47901168, 265.45616427,\n",
       "       217.78582538, 165.48136108, 350.67342809, 238.25404729,\n",
       "       321.5688483 , 180.09110803, 219.2954515 , 211.01436398,\n",
       "       205.15707968, 247.27648714, 364.47599862, 280.38312731,\n",
       "       216.99916462, 258.98864519, 175.16720945, 271.01987046,\n",
       "       253.2834943 , 357.7979763 , 194.45256521, 253.35775217,\n",
       "       224.20606925, 281.76163589, 225.17568213, 218.23094117,\n",
       "       165.48136108, 196.42726809, 294.83310255, 196.01875574,\n",
       "       276.72799915, 192.73492928, 215.39390124, 359.6297724 ,\n",
       "       264.25677884, 253.31620053, 230.1444383 , 345.49418879,\n",
       "       209.25562094, 186.02092768, 206.60580271, 169.85759241,\n",
       "       323.58672544, 291.40600086, 341.41777948, 162.00670464,\n",
       "       262.96154014, 181.17421662, 384.23603544, 230.27188638,\n",
       "       211.82907878, 405.23352302, 323.62314926, 361.1095134 ,\n",
       "       229.52896713, 265.4481269 , 293.52518239, 298.62685787,\n",
       "       316.65170443, 117.22510923, 410.01774758, 248.76810806,\n",
       "       252.65998576, 149.88738049, 215.04110969, 266.1126944 ,\n",
       "       390.22583167, 273.90024842, 231.90746191, 322.58534912,\n",
       "       201.37879628, 233.38851489, 228.44623483, 190.32462366,\n",
       "       270.55025324, 316.17657251, 199.52618666, 290.66705909,\n",
       "       288.2081391 , 231.89793787, 242.30412977, 179.07168937,\n",
       "       251.79877187, 298.37702127, 181.52685257, 350.24984021,\n",
       "       281.66929181, 297.3395773 , 233.35670406, 221.43825873,\n",
       "       141.88676986, 346.59209776, 274.49029447, 192.73492928,\n",
       "       268.01108504, 193.86482835, 226.48413417, 258.98864519,\n",
       "       212.6229333 , 201.53182508, 240.57208984, 321.17638695,\n",
       "       261.56458183, 405.47595348, 267.5406053 , 333.89491059,\n",
       "       210.85121175, 272.05306189, 291.37772298, 289.30452144,\n",
       "       362.16174685, 270.29859475, 197.27431282, 244.09340564,\n",
       "       258.16891469, 316.17657251, 230.3538736 , 272.24657733,\n",
       "       316.65170443, 204.50747679, 255.74000375, 372.17203569,\n",
       "       254.01787123, 280.85511356, 316.17657251, 303.82763215,\n",
       "       362.05856201, 268.44641262, 423.06970489, 251.37997584,\n",
       "       338.67284311, 217.24783068, 352.07234142, 195.85612263,\n",
       "       260.10280572, 282.23698849, 256.0926397 , 252.18867889,\n",
       "       271.64596404, 191.76088731, 256.79603294, 360.2527961 ,\n",
       "       295.64871274, 168.75258533, 183.08095999, 319.10611507,\n",
       "       291.1703133 , 249.3786381 , 360.2527961 , 186.02092768,\n",
       "       369.33751926, 147.19607887, 394.49682144, 197.27431282,\n",
       "       206.60580271, 168.71110194, 190.22747054, 170.24293458,\n",
       "       208.09617207, 119.70392455, 181.8812793 , 239.41351626,\n",
       "       372.07767011, 257.81450806, 275.04763429, 302.58550443,\n",
       "       229.48365869, 238.41585326, 237.1704196 , 298.37702127,\n",
       "       202.73327645, 204.6412915 , 250.23499189, 191.00941157,\n",
       "       242.87804929, 338.19223996, 191.99695115, 304.38857317,\n",
       "       225.28025215, 277.38540456, 273.47965297, 210.85121175,\n",
       "       258.98864519, 297.93914031, 241.30648688, 287.48179954,\n",
       "       189.50608381, 259.25951778, 306.96203101, 273.77275219,\n",
       "       266.29517164, 199.95449427, 305.77443343, 282.52226508,\n",
       "       249.73210119, 292.5780038 ])"
      ]
     },
     "execution_count": 18,
     "metadata": {},
     "output_type": "execute_result"
    }
   ],
   "source": [
    "model.predict(X_test)\n"
   ]
  },
  {
   "cell_type": "code",
   "execution_count": 19,
   "id": "00d4da34-b2f2-4c14-9197-c7cd100b50d9",
   "metadata": {},
   "outputs": [
    {
     "data": {
      "text/plain": [
       "array([207, 237, 246, 161, 212, 384, 310, 214, 225, 147, 356, 216, 193,\n",
       "       380, 344, 306, 380, 253, 292, 271, 218, 161, 354, 235, 322, 177,\n",
       "       218, 209, 202, 246, 346, 278, 216, 258, 172, 278, 253, 361, 193,\n",
       "       253, 223, 283, 221, 216, 161, 196, 292, 196, 283, 191, 216, 359,\n",
       "       264, 253, 228, 347, 209, 184, 207, 166, 315, 294, 345, 159, 267,\n",
       "       179, 362, 228, 212, 414, 327, 344, 230, 267, 292, 297, 317, 110,\n",
       "       421, 248, 251, 145, 212, 270, 398, 276, 232, 324, 222, 235, 230,\n",
       "       189, 269, 317, 198, 294, 290, 232, 244, 175, 255, 294, 179, 356,\n",
       "       276, 301, 235, 221, 138, 331, 276, 191, 269, 186, 228, 258, 212,\n",
       "       224, 239, 320, 262, 414, 269, 336, 209, 274, 290, 288, 361, 271,\n",
       "       196, 246, 262, 317, 230, 281, 317, 205, 255, 377, 258, 288, 317,\n",
       "       308, 342, 277, 432, 246, 340, 218, 356, 193, 260, 281, 255, 251,\n",
       "       271, 189, 260, 344, 294, 166, 179, 317, 294, 248, 344, 184, 368,\n",
       "       143, 402, 196, 207, 166, 181, 166, 229, 165, 179, 237, 380, 267,\n",
       "       276, 308, 230, 237, 235, 294, 200, 202, 255, 189, 242, 343, 191,\n",
       "       304, 225, 278, 274, 209, 258, 297, 254, 290, 186, 260, 306, 277,\n",
       "       267, 192, 308, 285, 248, 297], dtype=int64)"
      ]
     },
     "execution_count": 19,
     "metadata": {},
     "output_type": "execute_result"
    }
   ],
   "source": [
    "y_test"
   ]
  },
  {
   "cell_type": "code",
   "execution_count": 20,
   "id": "d8f3e96d-3705-4d11-a7f3-ef6cad8b99cf",
   "metadata": {},
   "outputs": [
    {
     "data": {
      "text/plain": [
       "(214, 9)"
      ]
     },
     "execution_count": 20,
     "metadata": {},
     "output_type": "execute_result"
    }
   ],
   "source": [
    "X_test.shape"
   ]
  },
  {
   "cell_type": "code",
   "execution_count": 21,
   "id": "106ff993-6bba-439d-8b0b-e5b40ece41d0",
   "metadata": {},
   "outputs": [],
   "source": [
    "bias=model.intercept_"
   ]
  },
  {
   "cell_type": "code",
   "execution_count": 18,
   "id": "4c8c368b-5d03-4789-a5ee-23771ebfbcef",
   "metadata": {},
   "outputs": [
    {
     "data": {
      "text/plain": [
       "-9.178578007741635"
      ]
     },
     "execution_count": 18,
     "metadata": {},
     "output_type": "execute_result"
    }
   ],
   "source": [
    "bias"
   ]
  },
  {
   "cell_type": "code",
   "execution_count": 22,
   "id": "3f77d862-89b3-4059-a62c-64208661a246",
   "metadata": {},
   "outputs": [],
   "source": [
    "W=model.coef_"
   ]
  },
  {
   "cell_type": "code",
   "execution_count": 20,
   "id": "700bce8f-d466-4d47-89be-5d7971eb2bfa",
   "metadata": {},
   "outputs": [
    {
     "data": {
      "text/plain": [
       "array([ 51.77704947, -94.4865329 ,  21.32331032,  21.3861731 ,\n",
       "         0.85964696,   1.06945146,  -5.03185956,  -6.21029737,\n",
       "        31.94487574])"
      ]
     },
     "execution_count": 20,
     "metadata": {},
     "output_type": "execute_result"
    }
   ],
   "source": [
    "W"
   ]
  },
  {
   "cell_type": "code",
   "execution_count": 23,
   "id": "b779d398-35e7-4bd0-aeed-5ef5f566cc10",
   "metadata": {},
   "outputs": [],
   "source": [
    "def predict_co2(X):\n",
    "    yh=bias+W[0]*X[:,0]+W[1]*X[:,1]+W[2]*X[:,2]+W[3]*X[:,3]+W[4]*X[:,4]+W[5]*X[:,5]+W[6]*X[:,6]+W[7]*X[:,7]+W[8]*X[:,8]\n",
    "    return yh"
   ]
  },
  {
   "cell_type": "code",
   "execution_count": 29,
   "id": "e41622ce-211c-432c-8f5a-77ed3fb564fb",
   "metadata": {},
   "outputs": [
    {
     "data": {
      "text/plain": [
       "array([207.81980815, 240.47404204, 247.55365809, 164.57055817,\n",
       "       212.46360612, 377.15129156, 310.12801369, 212.97977058,\n",
       "       228.68552359, 150.60427524, 359.32708898, 216.36846232,\n",
       "       195.85612263, 380.8865251 , 361.1095134 , 301.48012107,\n",
       "       372.43120145, 253.37906331, 288.47901168, 265.45616427,\n",
       "       217.78582538, 165.48136108, 350.67342809, 238.25404729,\n",
       "       321.5688483 , 180.09110803, 219.2954515 , 211.01436398,\n",
       "       205.15707968, 247.27648714, 364.47599862, 280.38312731,\n",
       "       216.99916462, 258.98864519, 175.16720945, 271.01987046,\n",
       "       253.2834943 , 357.7979763 , 194.45256521, 253.35775217,\n",
       "       224.20606925, 281.76163589, 225.17568213, 218.23094117,\n",
       "       165.48136108, 196.42726809, 294.83310255, 196.01875574,\n",
       "       276.72799915, 192.73492928, 215.39390124, 359.6297724 ,\n",
       "       264.25677884, 253.31620053, 230.1444383 , 345.49418879,\n",
       "       209.25562094, 186.02092768, 206.60580271, 169.85759241,\n",
       "       323.58672544, 291.40600086, 341.41777948, 162.00670464,\n",
       "       262.96154014, 181.17421662, 384.23603544, 230.27188638,\n",
       "       211.82907878, 405.23352302, 323.62314926, 361.1095134 ,\n",
       "       229.52896713, 265.4481269 , 293.52518239, 298.62685787,\n",
       "       316.65170443, 117.22510923, 410.01774758, 248.76810806,\n",
       "       252.65998576, 149.88738049, 215.04110969, 266.1126944 ,\n",
       "       390.22583167, 273.90024842, 231.90746191, 322.58534912,\n",
       "       201.37879628, 233.38851489, 228.44623483, 190.32462366,\n",
       "       270.55025324, 316.17657251, 199.52618666, 290.66705909,\n",
       "       288.2081391 , 231.89793787, 242.30412977, 179.07168937,\n",
       "       251.79877187, 298.37702127, 181.52685257, 350.24984021,\n",
       "       281.66929181, 297.3395773 , 233.35670406, 221.43825873,\n",
       "       141.88676986, 346.59209776, 274.49029447, 192.73492928,\n",
       "       268.01108504, 193.86482835, 226.48413417, 258.98864519,\n",
       "       212.6229333 , 201.53182508, 240.57208984, 321.17638695,\n",
       "       261.56458183, 405.47595348, 267.5406053 , 333.89491059,\n",
       "       210.85121175, 272.05306189, 291.37772298, 289.30452144,\n",
       "       362.16174685, 270.29859475, 197.27431282, 244.09340564,\n",
       "       258.16891469, 316.17657251, 230.3538736 , 272.24657733,\n",
       "       316.65170443, 204.50747679, 255.74000375, 372.17203569,\n",
       "       254.01787123, 280.85511356, 316.17657251, 303.82763215,\n",
       "       362.05856201, 268.44641262, 423.06970489, 251.37997584,\n",
       "       338.67284311, 217.24783068, 352.07234142, 195.85612263,\n",
       "       260.10280572, 282.23698849, 256.0926397 , 252.18867889,\n",
       "       271.64596404, 191.76088731, 256.79603294, 360.2527961 ,\n",
       "       295.64871274, 168.75258533, 183.08095999, 319.10611507,\n",
       "       291.1703133 , 249.3786381 , 360.2527961 , 186.02092768,\n",
       "       369.33751926, 147.19607887, 394.49682144, 197.27431282,\n",
       "       206.60580271, 168.71110194, 190.22747054, 170.24293458,\n",
       "       208.09617207, 119.70392455, 181.8812793 , 239.41351626,\n",
       "       372.07767011, 257.81450806, 275.04763429, 302.58550443,\n",
       "       229.48365869, 238.41585326, 237.1704196 , 298.37702127,\n",
       "       202.73327645, 204.6412915 , 250.23499189, 191.00941157,\n",
       "       242.87804929, 338.19223996, 191.99695115, 304.38857317,\n",
       "       225.28025215, 277.38540456, 273.47965297, 210.85121175,\n",
       "       258.98864519, 297.93914031, 241.30648688, 287.48179954,\n",
       "       189.50608381, 259.25951778, 306.96203101, 273.77275219,\n",
       "       266.29517164, 199.95449427, 305.77443343, 282.52226508,\n",
       "       249.73210119, 292.5780038 ])"
      ]
     },
     "execution_count": 29,
     "metadata": {},
     "output_type": "execute_result"
    }
   ],
   "source": [
    "predict_co2(X_test)"
   ]
  },
  {
   "cell_type": "code",
   "execution_count": 24,
   "id": "f2fe1219-af5c-4b2a-ac01-a2d75d4c7638",
   "metadata": {},
   "outputs": [],
   "source": [
    "yhat=model.predict(X_test)"
   ]
  },
  {
   "cell_type": "code",
   "execution_count": 25,
   "id": "1643dcc0-a2a0-4dc8-a996-86a61bbc27ec",
   "metadata": {},
   "outputs": [
    {
     "data": {
      "text/plain": [
       "array([207.81980815, 240.47404204, 247.55365809, 164.57055817,\n",
       "       212.46360612, 377.15129156, 310.12801369, 212.97977058,\n",
       "       228.68552359, 150.60427524, 359.32708898, 216.36846232,\n",
       "       195.85612263, 380.8865251 , 361.1095134 , 301.48012107,\n",
       "       372.43120145, 253.37906331, 288.47901168, 265.45616427,\n",
       "       217.78582538, 165.48136108, 350.67342809, 238.25404729,\n",
       "       321.5688483 , 180.09110803, 219.2954515 , 211.01436398,\n",
       "       205.15707968, 247.27648714, 364.47599862, 280.38312731,\n",
       "       216.99916462, 258.98864519, 175.16720945, 271.01987046,\n",
       "       253.2834943 , 357.7979763 , 194.45256521, 253.35775217,\n",
       "       224.20606925, 281.76163589, 225.17568213, 218.23094117,\n",
       "       165.48136108, 196.42726809, 294.83310255, 196.01875574,\n",
       "       276.72799915, 192.73492928, 215.39390124, 359.6297724 ,\n",
       "       264.25677884, 253.31620053, 230.1444383 , 345.49418879,\n",
       "       209.25562094, 186.02092768, 206.60580271, 169.85759241,\n",
       "       323.58672544, 291.40600086, 341.41777948, 162.00670464,\n",
       "       262.96154014, 181.17421662, 384.23603544, 230.27188638,\n",
       "       211.82907878, 405.23352302, 323.62314926, 361.1095134 ,\n",
       "       229.52896713, 265.4481269 , 293.52518239, 298.62685787,\n",
       "       316.65170443, 117.22510923, 410.01774758, 248.76810806,\n",
       "       252.65998576, 149.88738049, 215.04110969, 266.1126944 ,\n",
       "       390.22583167, 273.90024842, 231.90746191, 322.58534912,\n",
       "       201.37879628, 233.38851489, 228.44623483, 190.32462366,\n",
       "       270.55025324, 316.17657251, 199.52618666, 290.66705909,\n",
       "       288.2081391 , 231.89793787, 242.30412977, 179.07168937,\n",
       "       251.79877187, 298.37702127, 181.52685257, 350.24984021,\n",
       "       281.66929181, 297.3395773 , 233.35670406, 221.43825873,\n",
       "       141.88676986, 346.59209776, 274.49029447, 192.73492928,\n",
       "       268.01108504, 193.86482835, 226.48413417, 258.98864519,\n",
       "       212.6229333 , 201.53182508, 240.57208984, 321.17638695,\n",
       "       261.56458183, 405.47595348, 267.5406053 , 333.89491059,\n",
       "       210.85121175, 272.05306189, 291.37772298, 289.30452144,\n",
       "       362.16174685, 270.29859475, 197.27431282, 244.09340564,\n",
       "       258.16891469, 316.17657251, 230.3538736 , 272.24657733,\n",
       "       316.65170443, 204.50747679, 255.74000375, 372.17203569,\n",
       "       254.01787123, 280.85511356, 316.17657251, 303.82763215,\n",
       "       362.05856201, 268.44641262, 423.06970489, 251.37997584,\n",
       "       338.67284311, 217.24783068, 352.07234142, 195.85612263,\n",
       "       260.10280572, 282.23698849, 256.0926397 , 252.18867889,\n",
       "       271.64596404, 191.76088731, 256.79603294, 360.2527961 ,\n",
       "       295.64871274, 168.75258533, 183.08095999, 319.10611507,\n",
       "       291.1703133 , 249.3786381 , 360.2527961 , 186.02092768,\n",
       "       369.33751926, 147.19607887, 394.49682144, 197.27431282,\n",
       "       206.60580271, 168.71110194, 190.22747054, 170.24293458,\n",
       "       208.09617207, 119.70392455, 181.8812793 , 239.41351626,\n",
       "       372.07767011, 257.81450806, 275.04763429, 302.58550443,\n",
       "       229.48365869, 238.41585326, 237.1704196 , 298.37702127,\n",
       "       202.73327645, 204.6412915 , 250.23499189, 191.00941157,\n",
       "       242.87804929, 338.19223996, 191.99695115, 304.38857317,\n",
       "       225.28025215, 277.38540456, 273.47965297, 210.85121175,\n",
       "       258.98864519, 297.93914031, 241.30648688, 287.48179954,\n",
       "       189.50608381, 259.25951778, 306.96203101, 273.77275219,\n",
       "       266.29517164, 199.95449427, 305.77443343, 282.52226508,\n",
       "       249.73210119, 292.5780038 ])"
      ]
     },
     "execution_count": 25,
     "metadata": {},
     "output_type": "execute_result"
    }
   ],
   "source": [
    "yhat"
   ]
  },
  {
   "cell_type": "code",
   "execution_count": 26,
   "id": "bf830b4b-db6d-4c65-8f84-265f917fc206",
   "metadata": {},
   "outputs": [],
   "source": [
    "tab1=np.array([[a,b] for a,b in zip(yhat,y_test)])"
   ]
  },
  {
   "cell_type": "code",
   "execution_count": 27,
   "id": "ee25db3f-1e40-43b9-a503-b2f19d4bf664",
   "metadata": {},
   "outputs": [
    {
     "data": {
      "text/plain": [
       "(214, 2)"
      ]
     },
     "execution_count": 27,
     "metadata": {},
     "output_type": "execute_result"
    }
   ],
   "source": [
    "tab1.shape\n"
   ]
  },
  {
   "cell_type": "code",
   "execution_count": 30,
   "id": "b6e3b321-b82d-4e2e-8fc2-93cac4fdb759",
   "metadata": {},
   "outputs": [
    {
     "data": {
      "text/html": [
       "<div>\n",
       "<style scoped>\n",
       "    .dataframe tbody tr th:only-of-type {\n",
       "        vertical-align: middle;\n",
       "    }\n",
       "\n",
       "    .dataframe tbody tr th {\n",
       "        vertical-align: top;\n",
       "    }\n",
       "\n",
       "    .dataframe thead th {\n",
       "        text-align: right;\n",
       "    }\n",
       "</style>\n",
       "<table border=\"1\" class=\"dataframe\">\n",
       "  <thead>\n",
       "    <tr style=\"text-align: right;\">\n",
       "      <th></th>\n",
       "      <th>prediceted value</th>\n",
       "      <th>actuel value</th>\n",
       "    </tr>\n",
       "  </thead>\n",
       "  <tbody>\n",
       "    <tr>\n",
       "      <th>0</th>\n",
       "      <td>207.819808</td>\n",
       "      <td>207.0</td>\n",
       "    </tr>\n",
       "    <tr>\n",
       "      <th>1</th>\n",
       "      <td>240.474042</td>\n",
       "      <td>237.0</td>\n",
       "    </tr>\n",
       "    <tr>\n",
       "      <th>2</th>\n",
       "      <td>247.553658</td>\n",
       "      <td>246.0</td>\n",
       "    </tr>\n",
       "    <tr>\n",
       "      <th>3</th>\n",
       "      <td>164.570558</td>\n",
       "      <td>161.0</td>\n",
       "    </tr>\n",
       "    <tr>\n",
       "      <th>4</th>\n",
       "      <td>212.463606</td>\n",
       "      <td>212.0</td>\n",
       "    </tr>\n",
       "    <tr>\n",
       "      <th>...</th>\n",
       "      <td>...</td>\n",
       "      <td>...</td>\n",
       "    </tr>\n",
       "    <tr>\n",
       "      <th>209</th>\n",
       "      <td>199.954494</td>\n",
       "      <td>192.0</td>\n",
       "    </tr>\n",
       "    <tr>\n",
       "      <th>210</th>\n",
       "      <td>305.774433</td>\n",
       "      <td>308.0</td>\n",
       "    </tr>\n",
       "    <tr>\n",
       "      <th>211</th>\n",
       "      <td>282.522265</td>\n",
       "      <td>285.0</td>\n",
       "    </tr>\n",
       "    <tr>\n",
       "      <th>212</th>\n",
       "      <td>249.732101</td>\n",
       "      <td>248.0</td>\n",
       "    </tr>\n",
       "    <tr>\n",
       "      <th>213</th>\n",
       "      <td>292.578004</td>\n",
       "      <td>297.0</td>\n",
       "    </tr>\n",
       "  </tbody>\n",
       "</table>\n",
       "<p>214 rows × 2 columns</p>\n",
       "</div>"
      ],
      "text/plain": [
       "     prediceted value  actuel value\n",
       "0          207.819808         207.0\n",
       "1          240.474042         237.0\n",
       "2          247.553658         246.0\n",
       "3          164.570558         161.0\n",
       "4          212.463606         212.0\n",
       "..                ...           ...\n",
       "209        199.954494         192.0\n",
       "210        305.774433         308.0\n",
       "211        282.522265         285.0\n",
       "212        249.732101         248.0\n",
       "213        292.578004         297.0\n",
       "\n",
       "[214 rows x 2 columns]"
      ]
     },
     "execution_count": 30,
     "metadata": {},
     "output_type": "execute_result"
    }
   ],
   "source": [
    "pnd.DataFrame(tab1,columns=['prediceted value','actuel value'])"
   ]
  },
  {
   "cell_type": "code",
   "execution_count": 31,
   "id": "766c179f-d492-403c-825c-6171d161e8a2",
   "metadata": {},
   "outputs": [
    {
     "data": {
      "text/plain": [
       "0.9898685415621806"
      ]
     },
     "execution_count": 31,
     "metadata": {},
     "output_type": "execute_result"
    }
   ],
   "source": [
    "r2_score(y_test,yhat)"
   ]
  },
  {
   "cell_type": "code",
   "execution_count": 37,
   "id": "57dca98c-8766-42bb-b96e-b4ce73ffb9d5",
   "metadata": {},
   "outputs": [],
   "source": [
    "mse = mean_squared_error(y_test, yhat)\n",
    "mae=mean_absolute_error(y_test,yhat)\n",
    "rmse=np.sqrt(mse)"
   ]
  },
  {
   "cell_type": "code",
   "execution_count": 39,
   "id": "7cc517bd-289f-431e-927c-23583948b39a",
   "metadata": {},
   "outputs": [
    {
     "name": "stdout",
     "output_type": "stream",
     "text": [
      "Root Mean Squared Error: 6.353816569364652\n",
      " Mean absolute Error: 3.723114315075181\n",
      " Mean Squared Error: 40.370984997132794\n"
     ]
    }
   ],
   "source": [
    "print(\"Root Mean Squared Error:\", rmse)\n",
    "print(\" Mean absolute Error:\", mae)\n",
    "print(\" Mean Squared Error:\", mse)\n",
    "\n"
   ]
  },
  {
   "cell_type": "code",
   "execution_count": null,
   "id": "29e53df8-74db-4a10-8a1a-b42fa7cf3b30",
   "metadata": {},
   "outputs": [],
   "source": []
  }
 ],
 "metadata": {
  "kernelspec": {
   "display_name": "Python 3 (ipykernel)",
   "language": "python",
   "name": "python3"
  },
  "language_info": {
   "codemirror_mode": {
    "name": "ipython",
    "version": 3
   },
   "file_extension": ".py",
   "mimetype": "text/x-python",
   "name": "python",
   "nbconvert_exporter": "python",
   "pygments_lexer": "ipython3",
   "version": "3.11.7"
  }
 },
 "nbformat": 4,
 "nbformat_minor": 5
}
